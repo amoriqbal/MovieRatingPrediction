{
 "cells": [
  {
   "cell_type": "code",
   "execution_count": 1,
   "id": "be29d4a1",
   "metadata": {},
   "outputs": [],
   "source": [
    "import pandas as pd\n",
    "import json\n",
    "from utils import *\n",
    "from agglo import *\n",
    "from datetime import datetime\n",
    "import matplotlib\n",
    "import matplotlib.pyplot as plt"
   ]
  },
  {
   "cell_type": "code",
   "execution_count": 15,
   "id": "b014cc70",
   "metadata": {},
   "outputs": [],
   "source": [
    "def get_moving_average(s):\n",
    "    f = open(s)\n",
    "    data = json.load(f)\n",
    "    date_ratings = []\n",
    "    for comment in data:\n",
    "        date = comment[\"Date\"]\n",
    "        format_of_date = \"%d %B %Y\"\n",
    "        new_date = datetime.strptime(date,format_of_date)\n",
    "        rating = int(comment[\"Rating\"])\n",
    "        x = []\n",
    "        x.append(new_date)\n",
    "        x.append(rating)\n",
    "        date_ratings.append(x)\n",
    "    date_ratings.sort(key=lambda x:x[0])\n",
    "    date_ratings_moving_avg = []\n",
    "    average_till_now = 0.0\n",
    "    alpha = 0.05\n",
    "    for comment in date_ratings:\n",
    "        if len(date_ratings_moving_avg)==0:\n",
    "            date_ratings_moving_avg.append(comment)\n",
    "            average_till_now = comment[1]\n",
    "        else:\n",
    "            average_till_now = alpha*comment[1] + (1-alpha)*average_till_now\n",
    "            x = []\n",
    "            x.append(comment[0])\n",
    "            x.append(average_till_now)\n",
    "            date_ratings_moving_avg.append(x)\n",
    "    return date_ratings_moving_avg "
   ]
  },
  {
   "cell_type": "code",
   "execution_count": 16,
   "id": "340341c3",
   "metadata": {},
   "outputs": [],
   "source": [
    "def graph_of_data(data,title):\n",
    "    x = []\n",
    "    y = []\n",
    "    for d in data:\n",
    "        x.append(d[0])\n",
    "        y.append(d[1])\n",
    "    plt.rcParams.update({'font.size': 22})\n",
    "    plt.figure(figsize=(16,9))\n",
    "    plt.plot(x,y)\n",
    "    plt.xlabel('Date')\n",
    "    plt.ylabel('Rating')\n",
    "    plt.title(title)\n",
    "    plt.savefig(title,transparent=False)"
   ]
  },
  {
   "cell_type": "code",
   "execution_count": 17,
   "id": "2e861e03",
   "metadata": {},
   "outputs": [
    {
     "ename": "TypeError",
     "evalue": "can't multiply sequence by non-int of type 'float'",
     "output_type": "error",
     "traceback": [
      "\u001b[0;31m-------------------------------------------------------------------\u001b[0m",
      "\u001b[0;31mTypeError\u001b[0m                         Traceback (most recent call last)",
      "\u001b[0;32m<ipython-input-17-d22ba6452b63>\u001b[0m in \u001b[0;36m<module>\u001b[0;34m\u001b[0m\n\u001b[0;32m----> 1\u001b[0;31m \u001b[0mx\u001b[0m \u001b[0;34m=\u001b[0m \u001b[0mget_moving_average\u001b[0m\u001b[0;34m(\u001b[0m\u001b[0;34m'Data collection/Kashmir Files.json'\u001b[0m\u001b[0;34m)\u001b[0m\u001b[0;34m\u001b[0m\u001b[0;34m\u001b[0m\u001b[0m\n\u001b[0m\u001b[1;32m      2\u001b[0m \u001b[0mgraph_of_data\u001b[0m\u001b[0;34m(\u001b[0m\u001b[0mx\u001b[0m\u001b[0;34m,\u001b[0m\u001b[0;34m'Kashmir Files IMDB'\u001b[0m\u001b[0;34m)\u001b[0m\u001b[0;34m\u001b[0m\u001b[0;34m\u001b[0m\u001b[0m\n",
      "\u001b[0;32m<ipython-input-15-36f0c288b587>\u001b[0m in \u001b[0;36mget_moving_average\u001b[0;34m(s)\u001b[0m\n\u001b[1;32m     21\u001b[0m             \u001b[0maverage_till_now\u001b[0m \u001b[0;34m=\u001b[0m \u001b[0mcomment\u001b[0m\u001b[0;34m[\u001b[0m\u001b[0;36m1\u001b[0m\u001b[0;34m]\u001b[0m\u001b[0;34m\u001b[0m\u001b[0;34m\u001b[0m\u001b[0m\n\u001b[1;32m     22\u001b[0m         \u001b[0;32melse\u001b[0m\u001b[0;34m:\u001b[0m\u001b[0;34m\u001b[0m\u001b[0;34m\u001b[0m\u001b[0m\n\u001b[0;32m---> 23\u001b[0;31m             \u001b[0maverage_till_now\u001b[0m \u001b[0;34m=\u001b[0m \u001b[0malpha\u001b[0m\u001b[0;34m*\u001b[0m\u001b[0mcomment\u001b[0m\u001b[0;34m[\u001b[0m\u001b[0;36m1\u001b[0m\u001b[0;34m]\u001b[0m \u001b[0;34m+\u001b[0m \u001b[0;34m(\u001b[0m\u001b[0;36m1\u001b[0m\u001b[0;34m-\u001b[0m\u001b[0malpha\u001b[0m\u001b[0;34m)\u001b[0m\u001b[0;34m*\u001b[0m\u001b[0maverage_till_now\u001b[0m\u001b[0;34m\u001b[0m\u001b[0;34m\u001b[0m\u001b[0m\n\u001b[0m\u001b[1;32m     24\u001b[0m             \u001b[0mx\u001b[0m \u001b[0;34m=\u001b[0m \u001b[0;34m[\u001b[0m\u001b[0;34m]\u001b[0m\u001b[0;34m\u001b[0m\u001b[0;34m\u001b[0m\u001b[0m\n\u001b[1;32m     25\u001b[0m             \u001b[0mx\u001b[0m\u001b[0;34m.\u001b[0m\u001b[0mappend\u001b[0m\u001b[0;34m(\u001b[0m\u001b[0mcomment\u001b[0m\u001b[0;34m[\u001b[0m\u001b[0;36m0\u001b[0m\u001b[0;34m]\u001b[0m\u001b[0;34m)\u001b[0m\u001b[0;34m\u001b[0m\u001b[0;34m\u001b[0m\u001b[0m\n",
      "\u001b[0;31mTypeError\u001b[0m: can't multiply sequence by non-int of type 'float'"
     ]
    }
   ],
   "source": [
    "x = get_moving_average('Data collection/Kashmir Files.json')\n",
    "graph_of_data(x,'Kashmir Files IMDB')"
   ]
  },
  {
   "cell_type": "code",
   "execution_count": null,
   "id": "dcac0983",
   "metadata": {},
   "outputs": [],
   "source": []
  }
 ],
 "metadata": {
  "kernelspec": {
   "display_name": "Python 3",
   "language": "python",
   "name": "python3"
  },
  "language_info": {
   "codemirror_mode": {
    "name": "ipython",
    "version": 3
   },
   "file_extension": ".py",
   "mimetype": "text/x-python",
   "name": "python",
   "nbconvert_exporter": "python",
   "pygments_lexer": "ipython3",
   "version": "3.8.10"
  }
 },
 "nbformat": 4,
 "nbformat_minor": 5
}
