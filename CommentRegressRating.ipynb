{
 "cells": [
  {
   "cell_type": "code",
   "execution_count": 94,
   "id": "8ed6ec87",
   "metadata": {},
   "outputs": [],
   "source": [
    "from nb import *\n",
    "from munching import *"
   ]
  },
  {
   "cell_type": "code",
   "execution_count": 95,
   "id": "d418f2b2",
   "metadata": {},
   "outputs": [],
   "source": [
    "with open('dataset.json') as df:\n",
    "    masterDset = json.load(df)\n",
    "ucutDset = filterMinSize(masterDset, 20)\n",
    "lcutDset = filterMaxSize(masterDset, 19)\n",
    "N = len(ucutDset)\n",
    "LN = len(lcutDset)"
   ]
  },
  {
   "cell_type": "code",
   "execution_count": 96,
   "id": "75dd3f97",
   "metadata": {},
   "outputs": [],
   "source": [
    "# sentiment analyser for comments\n",
    "def trainedNB(lcutDset,ratingThresh):\n",
    "    LN = len(lcutDset)\n",
    "    X,y = prepNBDset(lcutDset,ratingThresh,1)\n",
    "    train_x, test_x, train_y, test_y = train_test_split(X,y,test_size=0.33,random_state=42)\n",
    "    nbModel = NBSentimentClassifier()\n",
    "    nbModel.fit(train_x,train_y)\n",
    "    print('Thresh : {}'.format(ratingThresh))\n",
    "    print('Training accuracy : {}'.format(nbModel.score(train_x,train_y)))\n",
    "    print('Test accuracy : {}'.format(nbModel.score(test_x,test_y)))\n",
    "    return nbModel"
   ]
  },
  {
   "cell_type": "code",
   "execution_count": 97,
   "id": "0ad8ee8a",
   "metadata": {},
   "outputs": [],
   "source": [
    "# prediction of average rating for movie, corresponding to given sentiment analyser model\n",
    "def predictMovieRating(comments, model):\n",
    "    return np.mean(model.predict(comments))"
   ]
  },
  {
   "cell_type": "markdown",
   "id": "cf5e2150",
   "metadata": {},
   "source": [
    "### Train different sentiment analysers by differing the threshold for good and bad comments"
   ]
  },
  {
   "cell_type": "code",
   "execution_count": 98,
   "id": "35eef9d2",
   "metadata": {},
   "outputs": [
    {
     "name": "stdout",
     "output_type": "stream",
     "text": [
      "Thresh : 3\n",
      "Training accuracy : 0.9402180424104468\n",
      "Test accuracy : 0.921692607003891\n"
     ]
    }
   ],
   "source": [
    "nb3 = trainedNB(lcutDset,3)"
   ]
  },
  {
   "cell_type": "code",
   "execution_count": 99,
   "id": "c7ede8f3",
   "metadata": {
    "scrolled": true
   },
   "outputs": [
    {
     "name": "stdout",
     "output_type": "stream",
     "text": [
      "Thresh : 5\n",
      "Training accuracy : 0.8646220198873847\n",
      "Test accuracy : 0.748784046692607\n"
     ]
    }
   ],
   "source": [
    "nb5 = trainedNB(lcutDset,5)"
   ]
  },
  {
   "cell_type": "code",
   "execution_count": 100,
   "id": "dd9a1f2f",
   "metadata": {},
   "outputs": [
    {
     "name": "stdout",
     "output_type": "stream",
     "text": [
      "Thresh : 5\n",
      "Training accuracy : 0.8646220198873847\n",
      "Test accuracy : 0.748784046692607\n"
     ]
    }
   ],
   "source": [
    "nb6 = trainedNB(lcutDset,5)"
   ]
  },
  {
   "cell_type": "code",
   "execution_count": 101,
   "id": "292f6d43",
   "metadata": {
    "scrolled": false
   },
   "outputs": [
    {
     "name": "stdout",
     "output_type": "stream",
     "text": [
      "Thresh : 7\n",
      "Training accuracy : 0.8480891338205343\n",
      "Test accuracy : 0.6777723735408561\n"
     ]
    }
   ],
   "source": [
    "nb7 = trainedNB(lcutDset,7)"
   ]
  },
  {
   "cell_type": "code",
   "execution_count": 102,
   "id": "b1c53ec5",
   "metadata": {},
   "outputs": [
    {
     "name": "stdout",
     "output_type": "stream",
     "text": [
      "Thresh : 8\n",
      "Training accuracy : 0.8718102312207979\n",
      "Test accuracy : 0.7838035019455253\n"
     ]
    }
   ],
   "source": [
    "nb8 = trainedNB(lcutDset,8)"
   ]
  },
  {
   "cell_type": "code",
   "execution_count": 103,
   "id": "e989f0c6",
   "metadata": {},
   "outputs": [
    {
     "name": "stdout",
     "output_type": "stream",
     "text": [
      "Thresh : 9\n",
      "Training accuracy : 0.9138612675212652\n",
      "Test accuracy : 0.8779182879377432\n"
     ]
    }
   ],
   "source": [
    "nb9 = trainedNB(lcutDset,9)"
   ]
  },
  {
   "cell_type": "code",
   "execution_count": 104,
   "id": "743de172",
   "metadata": {},
   "outputs": [
    {
     "name": "stdout",
     "output_type": "stream",
     "text": [
      "Titanic\n"
     ]
    }
   ],
   "source": [
    "sampleMovie = list(ucutDset.keys())[0]\n",
    "print(sampleMovie)\n",
    "\n",
    "comments = [x['Title'] for x in ucutDset[sampleMovie]['Comments']]\n",
    "print(comments[:2])\n",
    "\n",
    "print(predictMovieRating(comments,nb5))\n",
    "\n",
    "avg_rating = ucutDset[sampleMovie]['Rating']\n",
    "print(avg_rating)"
   ]
  },
  {
   "cell_type": "code",
   "execution_count": 108,
   "id": "8acb7dfc",
   "metadata": {},
   "outputs": [],
   "source": [
    "def prepDset(dset,sentimentModels):\n",
    "#     dset = filterMinSize(fname,minSize)\n",
    "    X = []\n",
    "    y = []\n",
    "    for movie in dset:\n",
    "        comments = [x['Title'] for x in dset[movie]['Comments']]\n",
    "        sentimentModelPreds = [predictMovieRating(comments,sentimentModel) for sentimentModel in sentimentModels]\n",
    "        X.append([*sentimentModelPreds,dset[movie]['Size']])\n",
    "        y.append(dset[movie]['Rating'])\n",
    "    return np.array(X),y"
   ]
  },
  {
   "cell_type": "code",
   "execution_count": 109,
   "id": "8d55b09b",
   "metadata": {},
   "outputs": [],
   "source": [
    "from sklearn.preprocessing import StandardScaler\n",
    "from sklearn.model_selection import train_test_split\n",
    "\n",
    "def ssDset(dset,sentimentModels,test_size=0.33):\n",
    "    X,y = prepDset(dset,sentimentModels)\n",
    "    X_train, X_test, y_train, y_test = train_test_split(X,y,test_size=test_size,random_state=42)\n",
    "    ss = StandardScaler()\n",
    "    ss.fit(X_train)\n",
    "    X_train = ss.transform(X_train)\n",
    "    X_test = ss.transform(X_test)\n",
    "    return X_train, X_test, np.array(y_train), np.array(y_test)"
   ]
  },
  {
   "cell_type": "code",
   "execution_count": 110,
   "id": "6ca7ab2e",
   "metadata": {},
   "outputs": [],
   "source": [
    "train_x,test_x,train_y,test_y = ssDset(ucutDset,[nb5,nb6,nb7,nb8])"
   ]
  },
  {
   "cell_type": "code",
   "execution_count": 111,
   "id": "76d104f2",
   "metadata": {},
   "outputs": [
    {
     "name": "stdout",
     "output_type": "stream",
     "text": [
      "(252, 5)\n",
      "(125, 5)\n",
      "(252,)\n",
      "(125,)\n"
     ]
    }
   ],
   "source": [
    "print(train_x.shape)\n",
    "print(test_x.shape)\n",
    "print(train_y.shape)\n",
    "print(test_y.shape)"
   ]
  },
  {
   "cell_type": "code",
   "execution_count": 112,
   "id": "bf5783d5",
   "metadata": {},
   "outputs": [],
   "source": [
    "from sklearn.preprocessing import PolynomialFeatures\n",
    "pf = PolynomialFeatures(2)\n",
    "XP_train = pf.fit_transform(train_x)\n",
    "XP_test = pf.fit_transform(test_x)"
   ]
  },
  {
   "cell_type": "code",
   "execution_count": 113,
   "id": "7847df2d",
   "metadata": {},
   "outputs": [
    {
     "name": "stdout",
     "output_type": "stream",
     "text": [
      "[ 0.          0.27147674  0.27147674  0.50860422  0.0812662   0.14178564\n",
      "  0.00225681  0.00225681 -0.06912912 -0.00695692  0.02613207  0.00225681\n",
      " -0.06912912 -0.00695692  0.02613207 -0.02456351  0.02139656  0.03339996\n",
      " -0.01770396 -0.07629103 -0.03150295]\n",
      "7.22668135522254\n"
     ]
    }
   ],
   "source": [
    "from sklearn.linear_model import LinearRegression\n",
    "linModel = LinearRegression()\n",
    "linModel.fit(XP_train,train_y)\n",
    "print(linModel.coef_)\n",
    "print(linModel.intercept_)"
   ]
  },
  {
   "cell_type": "code",
   "execution_count": 114,
   "id": "af4fdd75",
   "metadata": {},
   "outputs": [
    {
     "name": "stdout",
     "output_type": "stream",
     "text": [
      "0.7057250896052782\n",
      "0.6983183202331811\n"
     ]
    }
   ],
   "source": [
    "print(linModel.score(XP_train,train_y))\n",
    "print(linModel.score(XP_test,test_y))"
   ]
  },
  {
   "cell_type": "code",
   "execution_count": 115,
   "id": "8685f395",
   "metadata": {},
   "outputs": [
    {
     "name": "stdout",
     "output_type": "stream",
     "text": [
      "0.6311355777150343\n",
      "0.45760800137823077\n"
     ]
    }
   ],
   "source": [
    "from sklearn.tree import DecisionTreeRegressor\n",
    "decRegModel = DecisionTreeRegressor(max_depth=2)\n",
    "decRegModel.fit(train_x,train_y)\n",
    "print(decRegModel.score(train_x,train_y))\n",
    "print(decRegModel.score(test_x,test_y))"
   ]
  },
  {
   "cell_type": "code",
   "execution_count": 116,
   "id": "e935e0d4",
   "metadata": {},
   "outputs": [
    {
     "name": "stdout",
     "output_type": "stream",
     "text": [
      "0.7353500707735305\n",
      "0.6356149268763553\n"
     ]
    }
   ],
   "source": [
    "from sklearn.svm import SVR\n",
    "svrModel = SVR()\n",
    "svrModel.fit(train_x,train_y)\n",
    "print(svrModel.score(train_x,train_y))\n",
    "print(svrModel.score(test_x,test_y))"
   ]
  },
  {
   "cell_type": "code",
   "execution_count": 117,
   "id": "8e483b36",
   "metadata": {},
   "outputs": [
    {
     "name": "stdout",
     "output_type": "stream",
     "text": [
      "0.798841076739281\n",
      "0.6016305033574227\n"
     ]
    }
   ],
   "source": [
    "from sklearn.ensemble import RandomForestRegressor\n",
    "rfModel = RandomForestRegressor(max_depth=4)\n",
    "rfModel.fit(train_x,train_y)\n",
    "print(rfModel.score(train_x,train_y))\n",
    "print(rfModel.score(test_x,test_y))"
   ]
  }
 ],
 "metadata": {
  "kernelspec": {
   "display_name": "Python 3 (ipykernel)",
   "language": "python",
   "name": "python3"
  },
  "language_info": {
   "codemirror_mode": {
    "name": "ipython",
    "version": 3
   },
   "file_extension": ".py",
   "mimetype": "text/x-python",
   "name": "python",
   "nbconvert_exporter": "python",
   "pygments_lexer": "ipython3",
   "version": "3.9.7"
  }
 },
 "nbformat": 4,
 "nbformat_minor": 5
}
